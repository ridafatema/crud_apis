{
 "cells": [
  {
   "cell_type": "code",
   "execution_count": 2,
   "metadata": {},
   "outputs": [],
   "source": [
    "from quickstart.models import Question, Choice\n",
    "from datetime import datetime\n",
    "from django.db.models import Q\n",
    "from django.db.models import Count"
   ]
  },
  {
   "cell_type": "code",
   "execution_count": null,
   "metadata": {},
   "outputs": [],
   "source": [
    "# QuerySet -> Select in SQL\n",
    "# "
   ]
  },
  {
   "cell_type": "code",
   "execution_count": 3,
   "metadata": {},
   "outputs": [
    {
     "data": {
      "text/plain": [
       "<QuerySet [<Question: first ques - 2020-12-10 11:59:37+00:00>, <Question: second ques - 2020-12-10 11:59:49+00:00>, <Question: third ques - 2020-12-10 11:59:59+00:00>, <Question: fourth ques - 2020-12-10 12:00:12+00:00>]>"
      ]
     },
     "execution_count": 3,
     "metadata": {},
     "output_type": "execute_result"
    }
   ],
   "source": [
    "qs = Question.objects.all()\n",
    "qs"
   ]
  },
  {
   "cell_type": "code",
   "execution_count": 4,
   "metadata": {},
   "outputs": [
    {
     "data": {
      "text/plain": [
       "6"
      ]
     },
     "execution_count": 4,
     "metadata": {},
     "output_type": "execute_result"
    }
   ],
   "source": [
    "Choice.objects.all().count()"
   ]
  },
  {
   "cell_type": "code",
   "execution_count": 5,
   "metadata": {},
   "outputs": [
    {
     "data": {
      "text/plain": [
       "<QuerySet []>"
      ]
     },
     "execution_count": 5,
     "metadata": {},
     "output_type": "execute_result"
    }
   ],
   "source": [
    "#qs = Question.objects.filter(question_text=\"How you doing ?\")\n",
    "qs1 = Question.objects.filter(pub_date='2020-12-10 07:54:37+00:00')\n",
    "#qs\n",
    "qs1"
   ]
  },
  {
   "cell_type": "code",
   "execution_count": 6,
   "metadata": {},
   "outputs": [
    {
     "data": {
      "text/plain": [
       "<QuerySet [<Question: first ques - 2020-12-10 11:59:37+00:00>, <Question: second ques - 2020-12-10 11:59:49+00:00>, <Question: third ques - 2020-12-10 11:59:59+00:00>, <Question: fourth ques - 2020-12-10 12:00:12+00:00>]>"
      ]
     },
     "execution_count": 6,
     "metadata": {},
     "output_type": "execute_result"
    }
   ],
   "source": [
    "# implements or b/w 2 conditions : exclude all objects that has a question this or pub date that\n",
    "# if both conditions are true both of them will be excluded \n",
    "qs = Question.objects.exclude(question_text=\"jjlwrr\").exclude(pub_date='2021-12-10 07:54:37+00:00')\n",
    "qs"
   ]
  },
  {
   "cell_type": "code",
   "execution_count": 7,
   "metadata": {},
   "outputs": [
    {
     "data": {
      "text/plain": [
       "<QuerySet [<Question: first ques - 2020-12-10 11:59:37+00:00>, <Question: second ques - 2020-12-10 11:59:49+00:00>, <Question: third ques - 2020-12-10 11:59:59+00:00>, <Question: fourth ques - 2020-12-10 12:00:12+00:00>]>"
      ]
     },
     "execution_count": 7,
     "metadata": {},
     "output_type": "execute_result"
    }
   ],
   "source": [
    "# complex queries -> use Q() \n",
    "#jjlwrr is the third question\n",
    "qs = Question.objects.filter(Q(question_text__startswith = \"How\") | ~Q(question_text__startswith = 'jjlwrr'))\n",
    "qs"
   ]
  },
  {
   "cell_type": "code",
   "execution_count": 9,
   "metadata": {},
   "outputs": [
    {
     "data": {
      "text/plain": [
       "<QuerySet [<Question: first ques - 2020-12-10 11:59:37+00:00>, <Question: second ques - 2020-12-10 11:59:49+00:00>, <Question: third ques - 2020-12-10 11:59:59+00:00>, <Question: fourth ques - 2020-12-10 12:00:12+00:00>]>"
      ]
     },
     "execution_count": 9,
     "metadata": {},
     "output_type": "execute_result"
    }
   ],
   "source": [
    "#qs = Question.objects.get(Q(question_text__startswith = 'This'))\n",
    "#qs.delete()\n",
    "qs = Question.objects.all()\n",
    "qs"
   ]
  },
  {
   "cell_type": "code",
   "execution_count": 12,
   "metadata": {},
   "outputs": [
    {
     "data": {
      "text/plain": [
       "<QuerySet [<Choice: second ques - 2020-12-10 11:59:49+00:00 - c - 2>, <Choice: fourth ques - 2020-12-10 12:00:12+00:00 - c - 0>]>"
      ]
     },
     "execution_count": 12,
     "metadata": {},
     "output_type": "execute_result"
    }
   ],
   "source": [
    "qs = Choice.objects.filter(choice_text='c')\n",
    "qs"
   ]
  },
  {
   "cell_type": "code",
   "execution_count": 11,
   "metadata": {},
   "outputs": [
    {
     "data": {
      "text/plain": [
       "<QuerySet [<Choice: first ques - 2020-12-10 11:59:37+00:00 - b - 5>, <Choice: second ques - 2020-12-10 11:59:49+00:00 - b - 3>, <Choice: second ques - 2020-12-10 11:59:49+00:00 - c - 2>, <Choice: third ques - 2020-12-10 11:59:59+00:00 - b - 1>, <Choice: fourth ques - 2020-12-10 12:00:12+00:00 - b - 0>, <Choice: fourth ques - 2020-12-10 12:00:12+00:00 - c - 0>]>"
      ]
     },
     "execution_count": 11,
     "metadata": {},
     "output_type": "execute_result"
    }
   ],
   "source": [
    "qs=Choice.objects.all()\n",
    "qs"
   ]
  },
  {
   "cell_type": "code",
   "execution_count": 13,
   "metadata": {},
   "outputs": [
    {
     "data": {
      "text/plain": [
       "(0, {})"
      ]
     },
     "execution_count": 13,
     "metadata": {},
     "output_type": "execute_result"
    }
   ],
   "source": [
    "# delete() deletes an object\n",
    "# delete deletes all the objects inside the queryset\n",
    "\n",
    "qs = Question.objects.filter(Q(question_text__startswith = 'How')).delete()\n",
    "qs"
   ]
  },
  {
   "cell_type": "code",
   "execution_count": 14,
   "metadata": {},
   "outputs": [
    {
     "data": {
      "text/plain": [
       "<QuerySet [<Question: first ques - 2020-12-10 11:59:37+00:00>, <Question: fourth ques - 2020-12-10 12:00:12+00:00>, <Question: second ques - 2020-12-10 11:59:49+00:00>, <Question: third ques - 2020-12-10 11:59:59+00:00>]>"
      ]
     },
     "execution_count": 14,
     "metadata": {},
     "output_type": "execute_result"
    }
   ],
   "source": [
    "qs = Question.objects.order_by('question_text')\n",
    "qs"
   ]
  },
  {
   "cell_type": "code",
   "execution_count": 15,
   "metadata": {},
   "outputs": [
    {
     "data": {
      "text/plain": [
       "<QuerySet [<Choice: fourth ques - 2020-12-10 12:00:12+00:00 - b - 0>, <Choice: fourth ques - 2020-12-10 12:00:12+00:00 - c - 0>, <Choice: third ques - 2020-12-10 11:59:59+00:00 - b - 1>, <Choice: second ques - 2020-12-10 11:59:49+00:00 - c - 2>, <Choice: second ques - 2020-12-10 11:59:49+00:00 - b - 3>, <Choice: first ques - 2020-12-10 11:59:37+00:00 - b - 5>]>"
      ]
     },
     "execution_count": 15,
     "metadata": {},
     "output_type": "execute_result"
    }
   ],
   "source": [
    "qs = Choice.objects.order_by('votes', 'votes') \n",
    "qs"
   ]
  },
  {
   "cell_type": "code",
   "execution_count": 84,
   "metadata": {},
   "outputs": [],
   "source": [
    "#  DISTINCT ON fields is not supported by this database backend -> SUPPORTED BY POSTGRES ONLY\n",
    "# qs = Question.objects.order_by('question_text').distinct('question_text')\n",
    "#  qs"
   ]
  },
  {
   "cell_type": "code",
   "execution_count": 16,
   "metadata": {},
   "outputs": [
    {
     "data": {
      "text/plain": [
       "<QuerySet [{'question_text': 'first ques'}, {'question_text': 'fourth ques'}]>"
      ]
     },
     "execution_count": 16,
     "metadata": {},
     "output_type": "execute_result"
    }
   ],
   "source": [
    "qs = Question.objects.filter(question_text__startswith='f').values('question_text')\n",
    "qs"
   ]
  },
  {
   "cell_type": "code",
   "execution_count": 67,
   "metadata": {},
   "outputs": [
    {
     "data": {
      "text/plain": [
       "<QuerySet [{'id': 6, 'question_text': 'first ques', 'pub_date': datetime.datetime(2020, 12, 10, 11, 59, 37, tzinfo=<UTC>)}, {'id': 9, 'question_text': 'fourth ques', 'pub_date': datetime.datetime(2020, 12, 10, 12, 0, 12, tzinfo=<UTC>)}]>"
      ]
     },
     "execution_count": 67,
     "metadata": {},
     "output_type": "execute_result"
    }
   ],
   "source": [
    "# Finally, note that you can call filter(), order_by(), etc. after the values() call, \n",
    "qs = Question.objects.filter(question_text__startswith='f').values()\n",
    "qs"
   ]
  },
  {
   "cell_type": "code",
   "execution_count": 65,
   "metadata": {},
   "outputs": [
    {
     "data": {
      "text/plain": [
       "<QuerySet [<Choice: fourth ques - 2020-12-10 12:00:12+00:00 - b - 10>]>"
      ]
     },
     "execution_count": 65,
     "metadata": {},
     "output_type": "execute_result"
    }
   ],
   "source": [
    "qa = Choice.objects.filter(votes=10)\n",
    "qa"
   ]
  },
  {
   "cell_type": "code",
   "execution_count": 61,
   "metadata": {},
   "outputs": [
    {
     "data": {
      "text/plain": [
       "<QuerySet [{'id': 10, 'question_id': 9, 'choice_text': 'b', 'votes': 10}, {'id': 4, 'question_id': 6, 'choice_text': 'b', 'votes': 5}, {'id': 5, 'question_id': 7, 'choice_text': 'b', 'votes': 3}, {'id': 6, 'question_id': 7, 'choice_text': 'c', 'votes': 2}, {'id': 7, 'question_id': 8, 'choice_text': 'b', 'votes': 1}, {'id': 8, 'question_id': 9, 'choice_text': 'b', 'votes': 0}, {'id': 9, 'question_id': 9, 'choice_text': 'c', 'votes': 0}]>"
      ]
     },
     "execution_count": 61,
     "metadata": {},
     "output_type": "execute_result"
    }
   ],
   "source": [
    "qs1 = Choice.objects.values().order_by('-votes')  # this returns values of all cols with votes in desc\n",
    "qs1"
   ]
  },
  {
   "cell_type": "code",
   "execution_count": 63,
   "metadata": {},
   "outputs": [
    {
     "data": {
      "text/plain": [
       "<QuerySet [{'id': 10, 'question_id': 9, 'choice_text': 'b', 'votes': 10}, {'id': 4, 'question_id': 6, 'choice_text': 'b', 'votes': 5}, {'id': 5, 'question_id': 7, 'choice_text': 'b', 'votes': 3}, {'id': 6, 'question_id': 7, 'choice_text': 'c', 'votes': 2}, {'id': 7, 'question_id': 8, 'choice_text': 'b', 'votes': 1}, {'id': 8, 'question_id': 9, 'choice_text': 'b', 'votes': 0}, {'id': 9, 'question_id': 9, 'choice_text': 'c', 'votes': 0}]>"
      ]
     },
     "execution_count": 63,
     "metadata": {},
     "output_type": "execute_result"
    }
   ],
   "source": [
    "qs = Choice.objects.order_by('-votes').values() # this returns just objects\n",
    "qs"
   ]
  },
  {
   "cell_type": "code",
   "execution_count": 45,
   "metadata": {},
   "outputs": [
    {
     "data": {
      "text/plain": [
       "<QuerySet [(0,), (0,), (1,), (2,), (3,), (5,)]>"
      ]
     },
     "execution_count": 45,
     "metadata": {},
     "output_type": "execute_result"
    }
   ],
   "source": [
    "qs = Choice.objects.order_by('votes').values_list('votes') # this returns just objects\n",
    "qs"
   ]
  },
  {
   "cell_type": "code",
   "execution_count": 21,
   "metadata": {},
   "outputs": [
    {
     "data": {
      "text/plain": [
       "<QuerySet [(9,), (8,), (7,), (6,)]>"
      ]
     },
     "execution_count": 21,
     "metadata": {},
     "output_type": "execute_result"
    }
   ],
   "source": [
    "# this returns list of tuples (values - no keys)\n",
    "qs = Question.objects.order_by('-id').values_list('id')\n",
    "qs"
   ]
  },
  {
   "cell_type": "code",
   "execution_count": 22,
   "metadata": {},
   "outputs": [
    {
     "data": {
      "text/plain": [
       "(9,)"
      ]
     },
     "execution_count": 22,
     "metadata": {},
     "output_type": "execute_result"
    }
   ],
   "source": [
    "qs[0]"
   ]
  },
  {
   "cell_type": "code",
   "execution_count": 24,
   "metadata": {},
   "outputs": [
    {
     "data": {
      "text/plain": [
       "('second ques', datetime.datetime(2020, 12, 10, 11, 59, 49, tzinfo=<UTC>))"
      ]
     },
     "execution_count": 24,
     "metadata": {},
     "output_type": "execute_result"
    }
   ],
   "source": [
    "qs = Question.objects.values_list('question_text', 'pub_date').get(pk=7) # returns a question n date with the id =3\n",
    "qs"
   ]
  },
  {
   "cell_type": "code",
   "execution_count": 70,
   "metadata": {},
   "outputs": [
    {
     "data": {
      "text/plain": [
       "<QuerySet [{'question_id': 6, 'choice_text': 'b', 'question__question_text': 'first ques'}, {'question_id': 7, 'choice_text': 'b', 'question__question_text': 'second ques'}, {'question_id': 7, 'choice_text': 'c', 'question__question_text': 'second ques'}, {'question_id': 8, 'choice_text': 'b', 'question__question_text': 'third ques'}, {'question_id': 9, 'choice_text': 'b', 'question__question_text': 'fourth ques'}, {'question_id': 9, 'choice_text': 'c', 'question__question_text': 'fourth ques'}, {'question_id': 9, 'choice_text': 'b', 'question__question_text': 'fourth ques'}]>"
      ]
     },
     "execution_count": 70,
     "metadata": {},
     "output_type": "execute_result"
    }
   ],
   "source": [
    "qs = Choice.objects.values('question_id', 'choice_text', 'question__question_text')\n",
    "qs"
   ]
  },
  {
   "cell_type": "code",
   "execution_count": 27,
   "metadata": {},
   "outputs": [
    {
     "data": {
      "text/plain": [
       "<Choice: fourth ques - 2020-12-10 12:00:12+00:00 - c - 0>"
      ]
     },
     "execution_count": 27,
     "metadata": {},
     "output_type": "execute_result"
    }
   ],
   "source": [
    "qs = Choice.objects.select_related('question').get(id=9)\n",
    "qs"
   ]
  },
  {
   "cell_type": "code",
   "execution_count": 75,
   "metadata": {},
   "outputs": [
    {
     "name": "stdout",
     "output_type": "stream",
     "text": [
      "fourth ques - 2020-12-10 12:00:12+00:00 - b - 10                      VOTES:  10\n",
      "first ques - 2020-12-10 11:59:37+00:00 - b - 5                      VOTES:  5\n",
      "second ques - 2020-12-10 11:59:49+00:00 - b - 3                      VOTES:  3\n",
      "second ques - 2020-12-10 11:59:49+00:00 - c - 2                      VOTES:  2\n",
      "third ques - 2020-12-10 11:59:59+00:00 - b - 1                      VOTES:  1\n",
      "fourth ques - 2020-12-10 12:00:12+00:00 - b - 0                      VOTES:  0\n",
      "fourth ques - 2020-12-10 12:00:12+00:00 - c - 0                      VOTES:  0\n"
     ]
    }
   ],
   "source": [
    "qs = Choice.objects.select_related('question').order_by('-votes')\n",
    "for each_query in qs:\n",
    "    print(each_query, \"                     VOTES: \", each_query.votes)"
   ]
  },
  {
   "cell_type": "code",
   "execution_count": 29,
   "metadata": {},
   "outputs": [
    {
     "data": {
      "text/plain": [
       "<QuerySet [{'question': 6, 'choice_text': 'b'}, {'question': 7, 'choice_text': 'b'}, {'question': 7, 'choice_text': 'c'}, {'question': 8, 'choice_text': 'b'}, {'question': 9, 'choice_text': 'b'}, {'question': 9, 'choice_text': 'c'}]>"
      ]
     },
     "execution_count": 29,
     "metadata": {},
     "output_type": "execute_result"
    }
   ],
   "source": [
    "qs = Choice.objects.values('question', 'choice_text')\n",
    "qs"
   ]
  },
  {
   "cell_type": "code",
   "execution_count": 35,
   "metadata": {},
   "outputs": [
    {
     "data": {
      "text/plain": [
       "<QuerySet [{'question': 6, 'choice_text': 'b'}, {'question': 7, 'choice_text': 'b'}, {'question': 7, 'choice_text': 'c'}, {'question': 8, 'choice_text': 'b'}, {'question': 9, 'choice_text': 'b'}, {'question': 9, 'choice_text': 'c'}]>"
      ]
     },
     "execution_count": 35,
     "metadata": {},
     "output_type": "execute_result"
    }
   ],
   "source": [
    "# no of choices per question\n",
    "Choice.objects.filter(question__choice=7)\n",
    "qs"
   ]
  },
  {
   "cell_type": "code",
   "execution_count": 36,
   "metadata": {},
   "outputs": [],
   "source": [
    "ques = Question.objects.annotate(num_choice=Count('choice'))"
   ]
  },
  {
   "cell_type": "code",
   "execution_count": 37,
   "metadata": {},
   "outputs": [
    {
     "data": {
      "text/plain": [
       "<QuerySet [<Question: first ques - 2020-12-10 11:59:37+00:00>, <Question: second ques - 2020-12-10 11:59:49+00:00>, <Question: third ques - 2020-12-10 11:59:59+00:00>, <Question: fourth ques - 2020-12-10 12:00:12+00:00>]>"
      ]
     },
     "execution_count": 37,
     "metadata": {},
     "output_type": "execute_result"
    }
   ],
   "source": [
    "ques"
   ]
  },
  {
   "cell_type": "code",
   "execution_count": 44,
   "metadata": {},
   "outputs": [
    {
     "data": {
      "text/plain": [
       "1"
      ]
     },
     "execution_count": 44,
     "metadata": {},
     "output_type": "execute_result"
    }
   ],
   "source": [
    "ques[0].num_choice # 1\n",
    "ques[1].num_choice  # 2\n",
    "ques[2].num_choice   # 1\n",
    "ques[3].num_choice    # 2 "
   ]
  },
  {
   "cell_type": "code",
   "execution_count": 83,
   "metadata": {},
   "outputs": [
    {
     "data": {
      "text/plain": [
       "<QuerySet [{'question__question_text': 'fourth ques', 'votes': 10}]>"
      ]
     },
     "execution_count": 83,
     "metadata": {},
     "output_type": "execute_result"
    }
   ],
   "source": [
    "qs = Choice.objects.filter(votes=10).values('question__question_text', 'votes')\n",
    "qs"
   ]
  },
  {
   "cell_type": "code",
   "execution_count": 88,
   "metadata": {},
   "outputs": [
    {
     "data": {
      "text/plain": [
       "<QuerySet [<Choice: fourth ques - 2020-12-10 12:00:12+00:00 - b - 10>]>"
      ]
     },
     "execution_count": 88,
     "metadata": {},
     "output_type": "execute_result"
    }
   ],
   "source": [
    "qs = Choice.objects.extra(where = [ \"votes=10\" ] )\n",
    "qs"
   ]
  },
  {
   "cell_type": "code",
   "execution_count": 101,
   "metadata": {},
   "outputs": [
    {
     "name": "stdout",
     "output_type": "stream",
     "text": [
      "first ques - 2020-12-10 11:59:37+00:00 - b - 5\n",
      "second ques - 2020-12-10 11:59:49+00:00 - b - 3\n",
      "second ques - 2020-12-10 11:59:49+00:00 - c - 2\n",
      "third ques - 2020-12-10 11:59:59+00:00 - b - 1\n",
      "fourth ques - 2020-12-10 12:00:12+00:00 - b - 0\n",
      "fourth ques - 2020-12-10 12:00:12+00:00 - c - 0\n",
      "fourth ques - 2020-12-10 12:00:12+00:00 - b - 10\n"
     ]
    }
   ],
   "source": [
    "qs = Choice.objects.select_related('question')\n",
    "for each_query in qs:\n",
    "    print(each_query)\n"
   ]
  },
  {
   "cell_type": "code",
   "execution_count": 116,
   "metadata": {},
   "outputs": [
    {
     "name": "stdout",
     "output_type": "stream",
     "text": [
      "first ques\n",
      "<QuerySet [<Question: first ques - 2020-12-10 11:59:37+00:00>]>\n",
      "<QuerySet [<Choice: first ques - 2020-12-10 11:59:37+00:00 - b - 5>]>\n",
      "second ques\n",
      "<QuerySet [<Question: second ques - 2020-12-10 11:59:49+00:00>]>\n",
      "<QuerySet [<Choice: second ques - 2020-12-10 11:59:49+00:00 - b - 3>, <Choice: second ques - 2020-12-10 11:59:49+00:00 - c - 2>]>\n",
      "second ques\n",
      "<QuerySet [<Question: second ques - 2020-12-10 11:59:49+00:00>]>\n",
      "<QuerySet [<Choice: second ques - 2020-12-10 11:59:49+00:00 - b - 3>, <Choice: second ques - 2020-12-10 11:59:49+00:00 - c - 2>]>\n",
      "third ques\n",
      "<QuerySet [<Question: third ques - 2020-12-10 11:59:59+00:00>]>\n",
      "<QuerySet [<Choice: third ques - 2020-12-10 11:59:59+00:00 - b - 1>]>\n",
      "fourth ques\n",
      "<QuerySet [<Question: fourth ques - 2020-12-10 12:00:12+00:00>]>\n",
      "<QuerySet [<Choice: fourth ques - 2020-12-10 12:00:12+00:00 - b - 0>, <Choice: fourth ques - 2020-12-10 12:00:12+00:00 - c - 0>, <Choice: fourth ques - 2020-12-10 12:00:12+00:00 - b - 10>]>\n",
      "fourth ques\n",
      "<QuerySet [<Question: fourth ques - 2020-12-10 12:00:12+00:00>]>\n",
      "<QuerySet [<Choice: fourth ques - 2020-12-10 12:00:12+00:00 - b - 0>, <Choice: fourth ques - 2020-12-10 12:00:12+00:00 - c - 0>, <Choice: fourth ques - 2020-12-10 12:00:12+00:00 - b - 10>]>\n",
      "fourth ques\n",
      "<QuerySet [<Question: fourth ques - 2020-12-10 12:00:12+00:00>]>\n",
      "<QuerySet [<Choice: fourth ques - 2020-12-10 12:00:12+00:00 - b - 0>, <Choice: fourth ques - 2020-12-10 12:00:12+00:00 - c - 0>, <Choice: fourth ques - 2020-12-10 12:00:12+00:00 - b - 10>]>\n"
     ]
    }
   ],
   "source": [
    "qs = Choice.objects.values('question__question_text')\n",
    "for ech in qs:\n",
    "    print(ech['question__question_text'])\n",
    "    # identical outputs of below qs: \n",
    "    print(Question.objects.filter(question_text = ech['question__question_text']))\n",
    "    print(Choice.objects.filter(question__question_text = ech['question__question_text']))\n",
    "    "
   ]
  },
  {
   "cell_type": "code",
   "execution_count": 117,
   "metadata": {},
   "outputs": [
    {
     "data": {
      "text/plain": [
       "{'question__question_text': 'fourth ques', 'votes': 10}"
      ]
     },
     "execution_count": 117,
     "metadata": {},
     "output_type": "execute_result"
    }
   ],
   "source": [
    "# Question with the max votes!\n",
    "\n",
    "Choice.objects.values('question__question_text', 'votes').order_by('-votes')[0]"
   ]
  },
  {
   "cell_type": "code",
   "execution_count": null,
   "metadata": {},
   "outputs": [],
   "source": []
  }
 ],
 "metadata": {
  "kernelspec": {
   "display_name": "Django Shell-Plus",
   "language": "python",
   "name": "django_extensions"
  },
  "language_info": {
   "codemirror_mode": {
    "name": "ipython",
    "version": 3
   },
   "file_extension": ".py",
   "mimetype": "text/x-python",
   "name": "python",
   "nbconvert_exporter": "python",
   "pygments_lexer": "ipython3",
   "version": "3.7.4"
  }
 },
 "nbformat": 4,
 "nbformat_minor": 4
}
