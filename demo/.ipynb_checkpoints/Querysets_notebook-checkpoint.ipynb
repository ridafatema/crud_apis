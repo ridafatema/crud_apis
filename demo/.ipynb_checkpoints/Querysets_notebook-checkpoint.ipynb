{
 "cells": [
  {
   "cell_type": "code",
   "execution_count": 2,
   "metadata": {},
   "outputs": [],
   "source": [
    "from quickstart.models import Question, Choice\n",
    "from datetime import datetime\n",
    "from django.db.models import Q\n",
    "from django.db.models import Count"
   ]
  },
  {
   "cell_type": "code",
   "execution_count": null,
   "metadata": {},
   "outputs": [],
   "source": [
    "# QuerySet -> Select in SQL\n",
    "# "
   ]
  },
  {
   "cell_type": "code",
   "execution_count": 3,
   "metadata": {},
   "outputs": [
    {
     "data": {
      "text/plain": [
       "<QuerySet [<Question: first ques - 2020-12-10 11:59:37+00:00>, <Question: second ques - 2020-12-10 11:59:49+00:00>, <Question: third ques - 2020-12-10 11:59:59+00:00>, <Question: fourth ques - 2020-12-10 12:00:12+00:00>]>"
      ]
     },
     "execution_count": 3,
     "metadata": {},
     "output_type": "execute_result"
    }
   ],
   "source": [
    "qs = Question.objects.all()\n",
    "qs"
   ]
  },
  {
   "cell_type": "code",
   "execution_count": 4,
   "metadata": {},
   "outputs": [
    {
     "data": {
      "text/plain": [
       "6"
      ]
     },
     "execution_count": 4,
     "metadata": {},
     "output_type": "execute_result"
    }
   ],
   "source": [
    "Choice.objects.all().count()"
   ]
  },
  {
   "cell_type": "code",
   "execution_count": 5,
   "metadata": {},
   "outputs": [
    {
     "data": {
      "text/plain": [
       "<QuerySet []>"
      ]
     },
     "execution_count": 5,
     "metadata": {},
     "output_type": "execute_result"
    }
   ],
   "source": [
    "#qs = Question.objects.filter(question_text=\"How you doing ?\")\n",
    "qs1 = Question.objects.filter(pub_date='2020-12-10 07:54:37+00:00')\n",
    "#qs\n",
    "qs1"
   ]
  },
  {
   "cell_type": "code",
   "execution_count": 6,
   "metadata": {},
   "outputs": [
    {
     "data": {
      "text/plain": [
       "<QuerySet [<Question: first ques - 2020-12-10 11:59:37+00:00>, <Question: second ques - 2020-12-10 11:59:49+00:00>, <Question: third ques - 2020-12-10 11:59:59+00:00>, <Question: fourth ques - 2020-12-10 12:00:12+00:00>]>"
      ]
     },
     "execution_count": 6,
     "metadata": {},
     "output_type": "execute_result"
    }
   ],
   "source": [
    "# implements or b/w 2 conditions : exclude all objects that has a question this or pub date that\n",
    "# if both conditions are true both of them will be excluded \n",
    "qs = Question.objects.exclude(question_text=\"jjlwrr\").exclude(pub_date='2021-12-10 07:54:37+00:00')\n",
    "qs"
   ]
  },
  {
   "cell_type": "code",
   "execution_count": 7,
   "metadata": {},
   "outputs": [
    {
     "data": {
      "text/plain": [
       "<QuerySet [<Question: first ques - 2020-12-10 11:59:37+00:00>, <Question: second ques - 2020-12-10 11:59:49+00:00>, <Question: third ques - 2020-12-10 11:59:59+00:00>, <Question: fourth ques - 2020-12-10 12:00:12+00:00>]>"
      ]
     },
     "execution_count": 7,
     "metadata": {},
     "output_type": "execute_result"
    }
   ],
   "source": [
    "# complex queries -> use Q() \n",
    "#jjlwrr is the third question\n",
    "qs = Question.objects.filter(Q(question_text__startswith = \"How\") | ~Q(question_text__startswith = 'jjlwrr'))\n",
    "qs"
   ]
  },
  {
   "cell_type": "code",
   "execution_count": 9,
   "metadata": {},
   "outputs": [
    {
     "data": {
      "text/plain": [
       "<QuerySet [<Question: first ques - 2020-12-10 11:59:37+00:00>, <Question: second ques - 2020-12-10 11:59:49+00:00>, <Question: third ques - 2020-12-10 11:59:59+00:00>, <Question: fourth ques - 2020-12-10 12:00:12+00:00>]>"
      ]
     },
     "execution_count": 9,
     "metadata": {},
     "output_type": "execute_result"
    }
   ],
   "source": [
    "#qs = Question.objects.get(Q(question_text__startswith = 'This'))\n",
    "#qs.delete()\n",
    "qs = Question.objects.all()\n",
    "qs"
   ]
  },
  {
   "cell_type": "code",
   "execution_count": 12,
   "metadata": {},
   "outputs": [
    {
     "data": {
      "text/plain": [
       "<QuerySet [<Choice: second ques - 2020-12-10 11:59:49+00:00 - c - 2>, <Choice: fourth ques - 2020-12-10 12:00:12+00:00 - c - 0>]>"
      ]
     },
     "execution_count": 12,
     "metadata": {},
     "output_type": "execute_result"
    }
   ],
   "source": [
    "qs = Choice.objects.filter(choice_text='c')\n",
    "qs"
   ]
  },
  {
   "cell_type": "code",
   "execution_count": 11,
   "metadata": {},
   "outputs": [
    {
     "data": {
      "text/plain": [
       "<QuerySet [<Choice: first ques - 2020-12-10 11:59:37+00:00 - b - 5>, <Choice: second ques - 2020-12-10 11:59:49+00:00 - b - 3>, <Choice: second ques - 2020-12-10 11:59:49+00:00 - c - 2>, <Choice: third ques - 2020-12-10 11:59:59+00:00 - b - 1>, <Choice: fourth ques - 2020-12-10 12:00:12+00:00 - b - 0>, <Choice: fourth ques - 2020-12-10 12:00:12+00:00 - c - 0>]>"
      ]
     },
     "execution_count": 11,
     "metadata": {},
     "output_type": "execute_result"
    }
   ],
   "source": [
    "qs=Choice.objects.all()\n",
    "qs"
   ]
  },
  {
   "cell_type": "code",
   "execution_count": 13,
   "metadata": {},
   "outputs": [
    {
     "data": {
      "text/plain": [
       "(0, {})"
      ]
     },
     "execution_count": 13,
     "metadata": {},
     "output_type": "execute_result"
    }
   ],
   "source": [
    "# delete() deletes an object\n",
    "# delete deletes all the objects inside the queryset\n",
    "\n",
    "qs = Question.objects.filter(Q(question_text__startswith = 'How')).delete()\n",
    "qs"
   ]
  },
  {
   "cell_type": "code",
   "execution_count": 14,
   "metadata": {},
   "outputs": [
    {
     "data": {
      "text/plain": [
       "<QuerySet [<Question: first ques - 2020-12-10 11:59:37+00:00>, <Question: fourth ques - 2020-12-10 12:00:12+00:00>, <Question: second ques - 2020-12-10 11:59:49+00:00>, <Question: third ques - 2020-12-10 11:59:59+00:00>]>"
      ]
     },
     "execution_count": 14,
     "metadata": {},
     "output_type": "execute_result"
    }
   ],
   "source": [
    "qs = Question.objects.order_by('question_text')\n",
    "qs"
   ]
  },
  {
   "cell_type": "code",
   "execution_count": 15,
   "metadata": {},
   "outputs": [
    {
     "data": {
      "text/plain": [
       "<QuerySet [<Choice: fourth ques - 2020-12-10 12:00:12+00:00 - b - 0>, <Choice: fourth ques - 2020-12-10 12:00:12+00:00 - c - 0>, <Choice: third ques - 2020-12-10 11:59:59+00:00 - b - 1>, <Choice: second ques - 2020-12-10 11:59:49+00:00 - c - 2>, <Choice: second ques - 2020-12-10 11:59:49+00:00 - b - 3>, <Choice: first ques - 2020-12-10 11:59:37+00:00 - b - 5>]>"
      ]
     },
     "execution_count": 15,
     "metadata": {},
     "output_type": "execute_result"
    }
   ],
   "source": [
    "qs = Choice.objects.order_by('votes', 'votes') \n",
    "qs"
   ]
  },
  {
   "cell_type": "code",
   "execution_count": 84,
   "metadata": {},
   "outputs": [],
   "source": [
    "#  DISTINCT ON fields is not supported by this database backend -> SUPPORTED BY POSTGRES ONLY\n",
    "# qs = Question.objects.order_by('question_text').distinct('question_text')\n",
    "#  qs"
   ]
  },
  {
   "cell_type": "code",
   "execution_count": 16,
   "metadata": {},
   "outputs": [
    {
     "data": {
      "text/plain": [
       "<QuerySet [{'question_text': 'first ques'}, {'question_text': 'fourth ques'}]>"
      ]
     },
     "execution_count": 16,
     "metadata": {},
     "output_type": "execute_result"
    }
   ],
   "source": [
    "qs = Question.objects.filter(question_text__startswith='f').values('question_text')\n",
    "qs"
   ]
  },
  {
   "cell_type": "code",
   "execution_count": 67,
   "metadata": {},
   "outputs": [
    {
     "data": {
      "text/plain": [
       "<QuerySet [{'id': 6, 'question_text': 'first ques', 'pub_date': datetime.datetime(2020, 12, 10, 11, 59, 37, tzinfo=<UTC>)}, {'id': 9, 'question_text': 'fourth ques', 'pub_date': datetime.datetime(2020, 12, 10, 12, 0, 12, tzinfo=<UTC>)}]>"
      ]
     },
     "execution_count": 67,
     "metadata": {},
     "output_type": "execute_result"
    }
   ],
   "source": [
    "# Finally, note that you can call filter(), order_by(), etc. after the values() call, \n",
    "qs = Question.objects.filter(question_text__startswith='f').values()\n",
    "qs"
   ]
  },
  {
   "cell_type": "code",
   "execution_count": 65,
   "metadata": {},
   "outputs": [
    {
     "data": {
      "text/plain": [
       "<QuerySet [<Choice: fourth ques - 2020-12-10 12:00:12+00:00 - b - 10>]>"
      ]
     },
     "execution_count": 65,
     "metadata": {},
     "output_type": "execute_result"
    }
   ],
   "source": [
    "qa = Choice.objects.filter(votes=10)\n",
    "qa"
   ]
  },
  {
   "cell_type": "code",
   "execution_count": 61,
   "metadata": {},
   "outputs": [
    {
     "data": {
      "text/plain": [
       "<QuerySet [{'id': 10, 'question_id': 9, 'choice_text': 'b', 'votes': 10}, {'id': 4, 'question_id': 6, 'choice_text': 'b', 'votes': 5}, {'id': 5, 'question_id': 7, 'choice_text': 'b', 'votes': 3}, {'id': 6, 'question_id': 7, 'choice_text': 'c', 'votes': 2}, {'id': 7, 'question_id': 8, 'choice_text': 'b', 'votes': 1}, {'id': 8, 'question_id': 9, 'choice_text': 'b', 'votes': 0}, {'id': 9, 'question_id': 9, 'choice_text': 'c', 'votes': 0}]>"
      ]
     },
     "execution_count": 61,
     "metadata": {},
     "output_type": "execute_result"
    }
   ],
   "source": [
    "qs1 = Choice.objects.values().order_by('-votes')  # this returns values of all cols with votes in desc\n",
    "qs1"
   ]
  },
  {
   "cell_type": "code",
   "execution_count": 63,
   "metadata": {},
   "outputs": [
    {
     "data": {
      "text/plain": [
       "<QuerySet [{'id': 10, 'question_id': 9, 'choice_text': 'b', 'votes': 10}, {'id': 4, 'question_id': 6, 'choice_text': 'b', 'votes': 5}, {'id': 5, 'question_id': 7, 'choice_text': 'b', 'votes': 3}, {'id': 6, 'question_id': 7, 'choice_text': 'c', 'votes': 2}, {'id': 7, 'question_id': 8, 'choice_text': 'b', 'votes': 1}, {'id': 8, 'question_id': 9, 'choice_text': 'b', 'votes': 0}, {'id': 9, 'question_id': 9, 'choice_text': 'c', 'votes': 0}]>"
      ]
     },
     "execution_count": 63,
     "metadata": {},
     "output_type": "execute_result"
    }
   ],
   "source": [
    "qs = Choice.objects.order_by('-votes').values() # this returns just objects\n",
    "qs"
   ]
  },
  {
   "cell_type": "code",
   "execution_count": 45,
   "metadata": {},
   "outputs": [
    {
     "data": {
      "text/plain": [
       "<QuerySet [(0,), (0,), (1,), (2,), (3,), (5,)]>"
      ]
     },
     "execution_count": 45,
     "metadata": {},
     "output_type": "execute_result"
    }
   ],
   "source": [
    "qs = Choice.objects.order_by('votes').values_list('votes') # this returns just objects\n",
    "qs"
   ]
  },
  {
   "cell_type": "code",
   "execution_count": 21,
   "metadata": {},
   "outputs": [
    {
     "data": {
      "text/plain": [
       "<QuerySet [(9,), (8,), (7,), (6,)]>"
      ]
     },
     "execution_count": 21,
     "metadata": {},
     "output_type": "execute_result"
    }
   ],
   "source": [
    "# this returns list of tuples (values - no keys)\n",
    "qs = Question.objects.order_by('-id').values_list('id')\n",
    "qs"
   ]
  },
  {
   "cell_type": "code",
   "execution_count": 22,
   "metadata": {},
   "outputs": [
    {
     "data": {
      "text/plain": [
       "(9,)"
      ]
     },
     "execution_count": 22,
     "metadata": {},
     "output_type": "execute_result"
    }
   ],
   "source": [
    "qs[0]"
   ]
  },
  {
   "cell_type": "code",
   "execution_count": 24,
   "metadata": {},
   "outputs": [
    {
     "data": {
      "text/plain": [
       "('second ques', datetime.datetime(2020, 12, 10, 11, 59, 49, tzinfo=<UTC>))"
      ]
     },
     "execution_count": 24,
     "metadata": {},
     "output_type": "execute_result"
    }
   ],
   "source": [
    "qs = Question.objects.values_list('question_text', 'pub_date').get(pk=7) # returns a question n date with the id =3\n",
    "qs"
   ]
  },
  {
   "cell_type": "code",
   "execution_count": 70,
   "metadata": {},
   "outputs": [
    {
     "data": {
      "text/plain": [
       "<QuerySet [{'question_id': 6, 'choice_text': 'b', 'question__question_text': 'first ques'}, {'question_id': 7, 'choice_text': 'b', 'question__question_text': 'second ques'}, {'question_id': 7, 'choice_text': 'c', 'question__question_text': 'second ques'}, {'question_id': 8, 'choice_text': 'b', 'question__question_text': 'third ques'}, {'question_id': 9, 'choice_text': 'b', 'question__question_text': 'fourth ques'}, {'question_id': 9, 'choice_text': 'c', 'question__question_text': 'fourth ques'}, {'question_id': 9, 'choice_text': 'b', 'question__question_text': 'fourth ques'}]>"
      ]
     },
     "execution_count": 70,
     "metadata": {},
     "output_type": "execute_result"
    }
   ],
   "source": [
    "qs = Choice.objects.values('question_id', 'choice_text', 'question__question_text')\n",
    "qs"
   ]
  },
  {
   "cell_type": "code",
   "execution_count": 27,
   "metadata": {},
   "outputs": [
    {
     "data": {
      "text/plain": [
       "<Choice: fourth ques - 2020-12-10 12:00:12+00:00 - c - 0>"
      ]
     },
     "execution_count": 27,
     "metadata": {},
     "output_type": "execute_result"
    }
   ],
   "source": [
    "qs = Choice.objects.select_related('question').get(id=9)\n",
    "qs"
   ]
  },
  {
   "cell_type": "code",
   "execution_count": 75,
   "metadata": {},
   "outputs": [
    {
     "name": "stdout",
     "output_type": "stream",
     "text": [
      "fourth ques - 2020-12-10 12:00:12+00:00 - b - 10                      VOTES:  10\n",
      "first ques - 2020-12-10 11:59:37+00:00 - b - 5                      VOTES:  5\n",
      "second ques - 2020-12-10 11:59:49+00:00 - b - 3                      VOTES:  3\n",
      "second ques - 2020-12-10 11:59:49+00:00 - c - 2                      VOTES:  2\n",
      "third ques - 2020-12-10 11:59:59+00:00 - b - 1                      VOTES:  1\n",
      "fourth ques - 2020-12-10 12:00:12+00:00 - b - 0                      VOTES:  0\n",
      "fourth ques - 2020-12-10 12:00:12+00:00 - c - 0                      VOTES:  0\n"
     ]
    }
   ],
   "source": [
    "qs = Choice.objects.select_related('question').order_by('-votes')\n",
    "for each_query in qs:\n",
    "    print(each_query, \"                     VOTES: \", each_query.votes)"
   ]
  },
  {
   "cell_type": "code",
   "execution_count": 29,
   "metadata": {},
   "outputs": [
    {
     "data": {
      "text/plain": [
       "<QuerySet [{'question': 6, 'choice_text': 'b'}, {'question': 7, 'choice_text': 'b'}, {'question': 7, 'choice_text': 'c'}, {'question': 8, 'choice_text': 'b'}, {'question': 9, 'choice_text': 'b'}, {'question': 9, 'choice_text': 'c'}]>"
      ]
     },
     "execution_count": 29,
     "metadata": {},
     "output_type": "execute_result"
    }
   ],
   "source": [
    "qs = Choice.objects.values('question', 'choice_text')\n",
    "qs"
   ]
  },
  {
   "cell_type": "code",
   "execution_count": 35,
   "metadata": {},
   "outputs": [
    {
     "data": {
      "text/plain": [
       "<QuerySet [{'question': 6, 'choice_text': 'b'}, {'question': 7, 'choice_text': 'b'}, {'question': 7, 'choice_text': 'c'}, {'question': 8, 'choice_text': 'b'}, {'question': 9, 'choice_text': 'b'}, {'question': 9, 'choice_text': 'c'}]>"
      ]
     },
     "execution_count": 35,
     "metadata": {},
     "output_type": "execute_result"
    }
   ],
   "source": [
    "# no of choices per question\n",
    "Choice.objects.filter(question__choice=7)\n",
    "qs"
   ]
  },
  {
   "cell_type": "code",
   "execution_count": 36,
   "metadata": {},
   "outputs": [],
   "source": [
    "ques = Question.objects.annotate(num_choice=Count('choice'))"
   ]
  },
  {
   "cell_type": "code",
   "execution_count": 37,
   "metadata": {},
   "outputs": [
    {
     "data": {
      "text/plain": [
       "<QuerySet [<Question: first ques - 2020-12-10 11:59:37+00:00>, <Question: second ques - 2020-12-10 11:59:49+00:00>, <Question: third ques - 2020-12-10 11:59:59+00:00>, <Question: fourth ques - 2020-12-10 12:00:12+00:00>]>"
      ]
     },
     "execution_count": 37,
     "metadata": {},
     "output_type": "execute_result"
    }
   ],
   "source": [
    "ques"
   ]
  },
  {
   "cell_type": "code",
   "execution_count": 44,
   "metadata": {},
   "outputs": [
    {
     "data": {
      "text/plain": [
       "1"
      ]
     },
     "execution_count": 44,
     "metadata": {},
     "output_type": "execute_result"
    }
   ],
   "source": [
    "ques[0].num_choice # 1\n",
    "ques[1].num_choice  # 2\n",
    "ques[2].num_choice   # 1\n",
    "ques[3].num_choice    # 2 "
   ]
  },
  {
   "cell_type": "code",
   "execution_count": 83,
   "metadata": {},
   "outputs": [
    {
     "data": {
      "text/plain": [
       "<QuerySet [{'question__question_text': 'fourth ques', 'votes': 10}]>"
      ]
     },
     "execution_count": 83,
     "metadata": {},
     "output_type": "execute_result"
    }
   ],
   "source": [
    "qs = Choice.objects.filter(votes=10).values('question__question_text', 'votes')\n",
    "qs"
   ]
  },
  {
   "cell_type": "code",
   "execution_count": 88,
   "metadata": {},
   "outputs": [
    {
     "data": {
      "text/plain": [
       "<QuerySet [<Choice: fourth ques - 2020-12-10 12:00:12+00:00 - b - 10>]>"
      ]
     },
     "execution_count": 88,
     "metadata": {},
     "output_type": "execute_result"
    }
   ],
   "source": [
    "qs = Choice.objects.extra(where = [ \"votes=10\" ] )\n",
    "qs"
   ]
  },
  {
   "cell_type": "code",
   "execution_count": 92,
   "metadata": {},
   "outputs": [
    {
     "name": "stdout",
     "output_type": "stream",
     "text": [
      "('first ques',)\n"
     ]
    },
    {
     "ename": "FieldError",
     "evalue": "Cannot resolve keyword 'each_query' into field. Choices are: choice, id, pub_date, question_text",
     "output_type": "error",
     "traceback": [
      "\u001b[1;31m---------------------------------------------------------------------------\u001b[0m",
      "\u001b[1;31mFieldError\u001b[0m                                Traceback (most recent call last)",
      "\u001b[1;32m~\\.virtualenvs\\tutorial-arlinYee\\lib\\site-packages\\django\\db\\models\\sql\\query.py\u001b[0m in \u001b[0;36mtransform\u001b[1;34m(field, alias, name, previous)\u001b[0m\n\u001b[0;32m   1583\u001b[0m                     \u001b[0mwrapped\u001b[0m \u001b[1;33m=\u001b[0m \u001b[0mprevious\u001b[0m\u001b[1;33m(\u001b[0m\u001b[0mfield\u001b[0m\u001b[1;33m,\u001b[0m \u001b[0malias\u001b[0m\u001b[1;33m)\u001b[0m\u001b[1;33m\u001b[0m\u001b[1;33m\u001b[0m\u001b[0m\n\u001b[1;32m-> 1584\u001b[1;33m                     \u001b[1;32mreturn\u001b[0m \u001b[0mself\u001b[0m\u001b[1;33m.\u001b[0m\u001b[0mtry_transform\u001b[0m\u001b[1;33m(\u001b[0m\u001b[0mwrapped\u001b[0m\u001b[1;33m,\u001b[0m \u001b[0mname\u001b[0m\u001b[1;33m)\u001b[0m\u001b[1;33m\u001b[0m\u001b[1;33m\u001b[0m\u001b[0m\n\u001b[0m\u001b[0;32m   1585\u001b[0m                 \u001b[1;32mexcept\u001b[0m \u001b[0mFieldError\u001b[0m\u001b[1;33m:\u001b[0m\u001b[1;33m\u001b[0m\u001b[1;33m\u001b[0m\u001b[0m\n",
      "\u001b[1;32m~\\.virtualenvs\\tutorial-arlinYee\\lib\\site-packages\\django\\db\\models\\sql\\query.py\u001b[0m in \u001b[0;36mtry_transform\u001b[1;34m(self, lhs, name)\u001b[0m\n\u001b[0;32m   1199\u001b[0m                 \u001b[1;34m\"Unsupported lookup '%s' for %s or join on the field not \"\u001b[0m\u001b[1;33m\u001b[0m\u001b[1;33m\u001b[0m\u001b[0m\n\u001b[1;32m-> 1200\u001b[1;33m                 \u001b[1;34m\"permitted%s\"\u001b[0m \u001b[1;33m%\u001b[0m \u001b[1;33m(\u001b[0m\u001b[0mname\u001b[0m\u001b[1;33m,\u001b[0m \u001b[0moutput_field\u001b[0m\u001b[1;33m.\u001b[0m\u001b[0m__name__\u001b[0m\u001b[1;33m,\u001b[0m \u001b[0msuggestion\u001b[0m\u001b[1;33m)\u001b[0m\u001b[1;33m\u001b[0m\u001b[1;33m\u001b[0m\u001b[0m\n\u001b[0m\u001b[0;32m   1201\u001b[0m             )\n",
      "\u001b[1;31mFieldError\u001b[0m: Unsupported lookup 'each_query' for AutoField or join on the field not permitted.",
      "\nDuring handling of the above exception, another exception occurred:\n",
      "\u001b[1;31mFieldError\u001b[0m                                Traceback (most recent call last)",
      "\u001b[1;32m<ipython-input-92-8b74901289aa>\u001b[0m in \u001b[0;36m<module>\u001b[1;34m\u001b[0m\n\u001b[0;32m      2\u001b[0m \u001b[1;32mfor\u001b[0m \u001b[0meach_query\u001b[0m \u001b[1;32min\u001b[0m \u001b[0mqs\u001b[0m\u001b[1;33m:\u001b[0m\u001b[1;33m\u001b[0m\u001b[1;33m\u001b[0m\u001b[0m\n\u001b[0;32m      3\u001b[0m     \u001b[0mprint\u001b[0m\u001b[1;33m(\u001b[0m\u001b[0meach_query\u001b[0m\u001b[1;33m)\u001b[0m\u001b[1;33m\u001b[0m\u001b[1;33m\u001b[0m\u001b[0m\n\u001b[1;32m----> 4\u001b[1;33m     \u001b[0mprint\u001b[0m\u001b[1;33m(\u001b[0m\u001b[0mChoice\u001b[0m\u001b[1;33m.\u001b[0m\u001b[0mobjects\u001b[0m\u001b[1;33m.\u001b[0m\u001b[0mvalues\u001b[0m\u001b[1;33m(\u001b[0m\u001b[1;34m'question__each_query'\u001b[0m\u001b[1;33m)\u001b[0m\u001b[1;33m)\u001b[0m\u001b[1;33m\u001b[0m\u001b[1;33m\u001b[0m\u001b[0m\n\u001b[0m",
      "\u001b[1;32m~\\.virtualenvs\\tutorial-arlinYee\\lib\\site-packages\\django\\db\\models\\manager.py\u001b[0m in \u001b[0;36mmanager_method\u001b[1;34m(self, *args, **kwargs)\u001b[0m\n\u001b[0;32m     83\u001b[0m         \u001b[1;32mdef\u001b[0m \u001b[0mcreate_method\u001b[0m\u001b[1;33m(\u001b[0m\u001b[0mname\u001b[0m\u001b[1;33m,\u001b[0m \u001b[0mmethod\u001b[0m\u001b[1;33m)\u001b[0m\u001b[1;33m:\u001b[0m\u001b[1;33m\u001b[0m\u001b[1;33m\u001b[0m\u001b[0m\n\u001b[0;32m     84\u001b[0m             \u001b[1;32mdef\u001b[0m \u001b[0mmanager_method\u001b[0m\u001b[1;33m(\u001b[0m\u001b[0mself\u001b[0m\u001b[1;33m,\u001b[0m \u001b[1;33m*\u001b[0m\u001b[0margs\u001b[0m\u001b[1;33m,\u001b[0m \u001b[1;33m**\u001b[0m\u001b[0mkwargs\u001b[0m\u001b[1;33m)\u001b[0m\u001b[1;33m:\u001b[0m\u001b[1;33m\u001b[0m\u001b[1;33m\u001b[0m\u001b[0m\n\u001b[1;32m---> 85\u001b[1;33m                 \u001b[1;32mreturn\u001b[0m \u001b[0mgetattr\u001b[0m\u001b[1;33m(\u001b[0m\u001b[0mself\u001b[0m\u001b[1;33m.\u001b[0m\u001b[0mget_queryset\u001b[0m\u001b[1;33m(\u001b[0m\u001b[1;33m)\u001b[0m\u001b[1;33m,\u001b[0m \u001b[0mname\u001b[0m\u001b[1;33m)\u001b[0m\u001b[1;33m(\u001b[0m\u001b[1;33m*\u001b[0m\u001b[0margs\u001b[0m\u001b[1;33m,\u001b[0m \u001b[1;33m**\u001b[0m\u001b[0mkwargs\u001b[0m\u001b[1;33m)\u001b[0m\u001b[1;33m\u001b[0m\u001b[1;33m\u001b[0m\u001b[0m\n\u001b[0m\u001b[0;32m     86\u001b[0m             \u001b[0mmanager_method\u001b[0m\u001b[1;33m.\u001b[0m\u001b[0m__name__\u001b[0m \u001b[1;33m=\u001b[0m \u001b[0mmethod\u001b[0m\u001b[1;33m.\u001b[0m\u001b[0m__name__\u001b[0m\u001b[1;33m\u001b[0m\u001b[1;33m\u001b[0m\u001b[0m\n\u001b[0;32m     87\u001b[0m             \u001b[0mmanager_method\u001b[0m\u001b[1;33m.\u001b[0m\u001b[0m__doc__\u001b[0m \u001b[1;33m=\u001b[0m \u001b[0mmethod\u001b[0m\u001b[1;33m.\u001b[0m\u001b[0m__doc__\u001b[0m\u001b[1;33m\u001b[0m\u001b[1;33m\u001b[0m\u001b[0m\n",
      "\u001b[1;32m~\\.virtualenvs\\tutorial-arlinYee\\lib\\site-packages\\django\\db\\models\\query.py\u001b[0m in \u001b[0;36mvalues\u001b[1;34m(self, *fields, **expressions)\u001b[0m\n\u001b[0;32m    839\u001b[0m     \u001b[1;32mdef\u001b[0m \u001b[0mvalues\u001b[0m\u001b[1;33m(\u001b[0m\u001b[0mself\u001b[0m\u001b[1;33m,\u001b[0m \u001b[1;33m*\u001b[0m\u001b[0mfields\u001b[0m\u001b[1;33m,\u001b[0m \u001b[1;33m**\u001b[0m\u001b[0mexpressions\u001b[0m\u001b[1;33m)\u001b[0m\u001b[1;33m:\u001b[0m\u001b[1;33m\u001b[0m\u001b[1;33m\u001b[0m\u001b[0m\n\u001b[0;32m    840\u001b[0m         \u001b[0mfields\u001b[0m \u001b[1;33m+=\u001b[0m \u001b[0mtuple\u001b[0m\u001b[1;33m(\u001b[0m\u001b[0mexpressions\u001b[0m\u001b[1;33m)\u001b[0m\u001b[1;33m\u001b[0m\u001b[1;33m\u001b[0m\u001b[0m\n\u001b[1;32m--> 841\u001b[1;33m         \u001b[0mclone\u001b[0m \u001b[1;33m=\u001b[0m \u001b[0mself\u001b[0m\u001b[1;33m.\u001b[0m\u001b[0m_values\u001b[0m\u001b[1;33m(\u001b[0m\u001b[1;33m*\u001b[0m\u001b[0mfields\u001b[0m\u001b[1;33m,\u001b[0m \u001b[1;33m**\u001b[0m\u001b[0mexpressions\u001b[0m\u001b[1;33m)\u001b[0m\u001b[1;33m\u001b[0m\u001b[1;33m\u001b[0m\u001b[0m\n\u001b[0m\u001b[0;32m    842\u001b[0m         \u001b[0mclone\u001b[0m\u001b[1;33m.\u001b[0m\u001b[0m_iterable_class\u001b[0m \u001b[1;33m=\u001b[0m \u001b[0mValuesIterable\u001b[0m\u001b[1;33m\u001b[0m\u001b[1;33m\u001b[0m\u001b[0m\n\u001b[0;32m    843\u001b[0m         \u001b[1;32mreturn\u001b[0m \u001b[0mclone\u001b[0m\u001b[1;33m\u001b[0m\u001b[1;33m\u001b[0m\u001b[0m\n",
      "\u001b[1;32m~\\.virtualenvs\\tutorial-arlinYee\\lib\\site-packages\\django\\db\\models\\query.py\u001b[0m in \u001b[0;36m_values\u001b[1;34m(self, *fields, **expressions)\u001b[0m\n\u001b[0;32m    834\u001b[0m             \u001b[0mclone\u001b[0m \u001b[1;33m=\u001b[0m \u001b[0mclone\u001b[0m\u001b[1;33m.\u001b[0m\u001b[0mannotate\u001b[0m\u001b[1;33m(\u001b[0m\u001b[1;33m**\u001b[0m\u001b[0mexpressions\u001b[0m\u001b[1;33m)\u001b[0m\u001b[1;33m\u001b[0m\u001b[1;33m\u001b[0m\u001b[0m\n\u001b[0;32m    835\u001b[0m         \u001b[0mclone\u001b[0m\u001b[1;33m.\u001b[0m\u001b[0m_fields\u001b[0m \u001b[1;33m=\u001b[0m \u001b[0mfields\u001b[0m\u001b[1;33m\u001b[0m\u001b[1;33m\u001b[0m\u001b[0m\n\u001b[1;32m--> 836\u001b[1;33m         \u001b[0mclone\u001b[0m\u001b[1;33m.\u001b[0m\u001b[0mquery\u001b[0m\u001b[1;33m.\u001b[0m\u001b[0mset_values\u001b[0m\u001b[1;33m(\u001b[0m\u001b[0mfields\u001b[0m\u001b[1;33m)\u001b[0m\u001b[1;33m\u001b[0m\u001b[1;33m\u001b[0m\u001b[0m\n\u001b[0m\u001b[0;32m    837\u001b[0m         \u001b[1;32mreturn\u001b[0m \u001b[0mclone\u001b[0m\u001b[1;33m\u001b[0m\u001b[1;33m\u001b[0m\u001b[0m\n\u001b[0;32m    838\u001b[0m \u001b[1;33m\u001b[0m\u001b[0m\n",
      "\u001b[1;32m~\\.virtualenvs\\tutorial-arlinYee\\lib\\site-packages\\django\\db\\models\\sql\\query.py\u001b[0m in \u001b[0;36mset_values\u001b[1;34m(self, fields)\u001b[0m\n\u001b[0;32m   2172\u001b[0m \u001b[1;33m\u001b[0m\u001b[0m\n\u001b[0;32m   2173\u001b[0m         \u001b[0mself\u001b[0m\u001b[1;33m.\u001b[0m\u001b[0mvalues_select\u001b[0m \u001b[1;33m=\u001b[0m \u001b[0mtuple\u001b[0m\u001b[1;33m(\u001b[0m\u001b[0mfield_names\u001b[0m\u001b[1;33m)\u001b[0m\u001b[1;33m\u001b[0m\u001b[1;33m\u001b[0m\u001b[0m\n\u001b[1;32m-> 2174\u001b[1;33m         \u001b[0mself\u001b[0m\u001b[1;33m.\u001b[0m\u001b[0madd_fields\u001b[0m\u001b[1;33m(\u001b[0m\u001b[0mfield_names\u001b[0m\u001b[1;33m,\u001b[0m \u001b[1;32mTrue\u001b[0m\u001b[1;33m)\u001b[0m\u001b[1;33m\u001b[0m\u001b[1;33m\u001b[0m\u001b[0m\n\u001b[0m\u001b[0;32m   2175\u001b[0m \u001b[1;33m\u001b[0m\u001b[0m\n\u001b[0;32m   2176\u001b[0m     \u001b[1;33m@\u001b[0m\u001b[0mproperty\u001b[0m\u001b[1;33m\u001b[0m\u001b[1;33m\u001b[0m\u001b[0m\n",
      "\u001b[1;32m~\\.virtualenvs\\tutorial-arlinYee\\lib\\site-packages\\django\\db\\models\\sql\\query.py\u001b[0m in \u001b[0;36madd_fields\u001b[1;34m(self, field_names, allow_m2m)\u001b[0m\n\u001b[0;32m   1868\u001b[0m                 )\n\u001b[0;32m   1869\u001b[0m                 \u001b[1;32mfor\u001b[0m \u001b[0mtarget\u001b[0m \u001b[1;32min\u001b[0m \u001b[0mtargets\u001b[0m\u001b[1;33m:\u001b[0m\u001b[1;33m\u001b[0m\u001b[1;33m\u001b[0m\u001b[0m\n\u001b[1;32m-> 1870\u001b[1;33m                     \u001b[0mcols\u001b[0m\u001b[1;33m.\u001b[0m\u001b[0mappend\u001b[0m\u001b[1;33m(\u001b[0m\u001b[0mjoin_info\u001b[0m\u001b[1;33m.\u001b[0m\u001b[0mtransform_function\u001b[0m\u001b[1;33m(\u001b[0m\u001b[0mtarget\u001b[0m\u001b[1;33m,\u001b[0m \u001b[0mfinal_alias\u001b[0m\u001b[1;33m)\u001b[0m\u001b[1;33m)\u001b[0m\u001b[1;33m\u001b[0m\u001b[1;33m\u001b[0m\u001b[0m\n\u001b[0m\u001b[0;32m   1871\u001b[0m             \u001b[1;32mif\u001b[0m \u001b[0mcols\u001b[0m\u001b[1;33m:\u001b[0m\u001b[1;33m\u001b[0m\u001b[1;33m\u001b[0m\u001b[0m\n\u001b[0;32m   1872\u001b[0m                 \u001b[0mself\u001b[0m\u001b[1;33m.\u001b[0m\u001b[0mset_select\u001b[0m\u001b[1;33m(\u001b[0m\u001b[0mcols\u001b[0m\u001b[1;33m)\u001b[0m\u001b[1;33m\u001b[0m\u001b[1;33m\u001b[0m\u001b[0m\n",
      "\u001b[1;32m~\\.virtualenvs\\tutorial-arlinYee\\lib\\site-packages\\django\\db\\models\\sql\\query.py\u001b[0m in \u001b[0;36mtransform\u001b[1;34m(field, alias, name, previous)\u001b[0m\n\u001b[0;32m   1586\u001b[0m                     \u001b[1;31m# FieldError is raised if the transform doesn't exist.\u001b[0m\u001b[1;33m\u001b[0m\u001b[1;33m\u001b[0m\u001b[1;33m\u001b[0m\u001b[0m\n\u001b[0;32m   1587\u001b[0m                     \u001b[1;32mif\u001b[0m \u001b[0misinstance\u001b[0m\u001b[1;33m(\u001b[0m\u001b[0mfinal_field\u001b[0m\u001b[1;33m,\u001b[0m \u001b[0mField\u001b[0m\u001b[1;33m)\u001b[0m \u001b[1;32mand\u001b[0m \u001b[0mlast_field_exception\u001b[0m\u001b[1;33m:\u001b[0m\u001b[1;33m\u001b[0m\u001b[1;33m\u001b[0m\u001b[0m\n\u001b[1;32m-> 1588\u001b[1;33m                         \u001b[1;32mraise\u001b[0m \u001b[0mlast_field_exception\u001b[0m\u001b[1;33m\u001b[0m\u001b[1;33m\u001b[0m\u001b[0m\n\u001b[0m\u001b[0;32m   1589\u001b[0m                     \u001b[1;32melse\u001b[0m\u001b[1;33m:\u001b[0m\u001b[1;33m\u001b[0m\u001b[1;33m\u001b[0m\u001b[0m\n\u001b[0;32m   1590\u001b[0m                         \u001b[1;32mraise\u001b[0m\u001b[1;33m\u001b[0m\u001b[1;33m\u001b[0m\u001b[0m\n",
      "\u001b[1;32m~\\.virtualenvs\\tutorial-arlinYee\\lib\\site-packages\\django\\db\\models\\sql\\query.py\u001b[0m in \u001b[0;36msetup_joins\u001b[1;34m(self, names, opts, alias, can_reuse, allow_many, reuse_with_filtered_relation)\u001b[0m\n\u001b[0;32m   1564\u001b[0m             \u001b[1;32mtry\u001b[0m\u001b[1;33m:\u001b[0m\u001b[1;33m\u001b[0m\u001b[1;33m\u001b[0m\u001b[0m\n\u001b[0;32m   1565\u001b[0m                 path, final_field, targets, rest = self.names_to_path(\n\u001b[1;32m-> 1566\u001b[1;33m                     \u001b[0mnames\u001b[0m\u001b[1;33m[\u001b[0m\u001b[1;33m:\u001b[0m\u001b[0mpivot\u001b[0m\u001b[1;33m]\u001b[0m\u001b[1;33m,\u001b[0m \u001b[0mopts\u001b[0m\u001b[1;33m,\u001b[0m \u001b[0mallow_many\u001b[0m\u001b[1;33m,\u001b[0m \u001b[0mfail_on_missing\u001b[0m\u001b[1;33m=\u001b[0m\u001b[1;32mTrue\u001b[0m\u001b[1;33m,\u001b[0m\u001b[1;33m\u001b[0m\u001b[1;33m\u001b[0m\u001b[0m\n\u001b[0m\u001b[0;32m   1567\u001b[0m                 )\n\u001b[0;32m   1568\u001b[0m             \u001b[1;32mexcept\u001b[0m \u001b[0mFieldError\u001b[0m \u001b[1;32mas\u001b[0m \u001b[0mexc\u001b[0m\u001b[1;33m:\u001b[0m\u001b[1;33m\u001b[0m\u001b[1;33m\u001b[0m\u001b[0m\n",
      "\u001b[1;32m~\\.virtualenvs\\tutorial-arlinYee\\lib\\site-packages\\django\\db\\models\\sql\\query.py\u001b[0m in \u001b[0;36mnames_to_path\u001b[1;34m(self, names, opts, allow_many, fail_on_missing)\u001b[0m\n\u001b[0;32m   1480\u001b[0m                     ])\n\u001b[0;32m   1481\u001b[0m                     raise FieldError(\"Cannot resolve keyword '%s' into field. \"\n\u001b[1;32m-> 1482\u001b[1;33m                                      \"Choices are: %s\" % (name, \", \".join(available)))\n\u001b[0m\u001b[0;32m   1483\u001b[0m                 \u001b[1;32mbreak\u001b[0m\u001b[1;33m\u001b[0m\u001b[1;33m\u001b[0m\u001b[0m\n\u001b[0;32m   1484\u001b[0m             \u001b[1;31m# Check if we need any joins for concrete inheritance cases (the\u001b[0m\u001b[1;33m\u001b[0m\u001b[1;33m\u001b[0m\u001b[1;33m\u001b[0m\u001b[0m\n",
      "\u001b[1;31mFieldError\u001b[0m: Cannot resolve keyword 'each_query' into field. Choices are: choice, id, pub_date, question_text"
     ]
    }
   ],
   "source": [
    "qs = Question.objects.all().values_list('question_text')\n",
    "for each_query in qs:\n",
    "    print(each_query)\n",
    "    print(Choice.objects.values('question__each_query'))"
   ]
  },
  {
   "cell_type": "code",
   "execution_count": null,
   "metadata": {},
   "outputs": [],
   "source": []
  }
 ],
 "metadata": {
  "kernelspec": {
   "display_name": "Django Shell-Plus",
   "language": "python",
   "name": "django_extensions"
  },
  "language_info": {
   "codemirror_mode": {
    "name": "ipython",
    "version": 3
   },
   "file_extension": ".py",
   "mimetype": "text/x-python",
   "name": "python",
   "nbconvert_exporter": "python",
   "pygments_lexer": "ipython3",
   "version": "3.7.4"
  }
 },
 "nbformat": 4,
 "nbformat_minor": 4
}
